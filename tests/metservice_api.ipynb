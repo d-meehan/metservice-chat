{
 "cells": [
  {
   "cell_type": "code",
   "execution_count": 10,
   "metadata": {},
   "outputs": [
    {
     "name": "stdout",
     "output_type": "stream",
     "text": [
      "{\n",
      " \"dimensions\": {\n",
      "  \"point\": {\n",
      "   \"type\": \"point\",\n",
      "   \"units\": \"unknown\",\n",
      "   \"data\": [\n",
      "    {\n",
      "     \"lon\": 174.7842,\n",
      "     \"lat\": -37.7935\n",
      "    }\n",
      "   ]\n",
      "  },\n",
      "  \"time\": {\n",
      "   \"type\": \"time\",\n",
      "   \"units\": \"unknown\",\n",
      "   \"data\": [\n",
      "    \"2024-02-07T00:00:00Z\",\n",
      "    \"2024-02-07T03:00:00Z\",\n",
      "    \"2024-02-07T06:00:00Z\"\n",
      "   ]\n",
      "  }\n",
      " },\n",
      " \"noDataReasons\": {\n",
      "  \"ERROR_INTERNAL\": 2,\n",
      "  \"FILL\": 3,\n",
      "  \"GAP\": 1,\n",
      "  \"GOOD\": 0,\n",
      "  \"INVALID_HIGH\": 5,\n",
      "  \"INVALID_LOW\": 4\n",
      " },\n",
      " \"variables\": {\n",
      "  \"cloud.cover\": {\n",
      "   \"standardName\": \"cloud_area_fraction\",\n",
      "   \"units\": \"percent\",\n",
      "   \"dimensions\": [\n",
      "    \"time\",\n",
      "    \"point\"\n",
      "   ],\n",
      "   \"data\": [\n",
      "    1.4381456,\n",
      "    0,\n",
      "    0\n",
      "   ],\n",
      "   \"noData\": [\n",
      "    0,\n",
      "    0,\n",
      "    0\n",
      "   ]\n",
      "  }\n",
      " }\n",
      "}\n"
     ]
    }
   ],
   "source": [
    "from requests import post\n",
    "from os import getenv\n",
    "from datetime import datetime\n",
    "import json\n",
    "import pydantic\n",
    "\n",
    "# NOTE: don't for get to set \"apikey\" env, or the default below.\n",
    "resp = post(\n",
    "    \"https://forecast-v2.metoceanapi.com/point/time\",\n",
    "    headers={\"x-api-key\": getenv(\"metservice_key\", \"MYAPIKEY\")},\n",
    "    json={\n",
    "        \"points\": [{\n",
    "            \"lon\": 174.7842,\n",
    "            \"lat\": -37.7935\n",
    "        }],\n",
    "        \"variables\": [\n",
    "            \"cloud.cover\",\n",
    "        ],\n",
    "        \"time\": {\n",
    "            \"from\": \"{:%Y-%m-%dT00:00:00Z}\".format(datetime.now()),\n",
    "            \"interval\": \"3h\",\n",
    "            \"repeat\": 2\n",
    "        }\n",
    "    }\n",
    ")\n",
    "\n",
    "if resp.status_code != 200:\n",
    "    raise ValueError(\"{}: {}\", resp.status_code, resp.text)\n",
    "\n",
    "print(json.dumps(resp.json(), indent=1))]"
   ]
  },
  {
   "cell_type": "code",
   "execution_count": 4,
   "metadata": {},
   "outputs": [
    {
     "name": "stdout",
     "output_type": "stream",
     "text": [
      "resp type: <class 'requests.models.Response'>\n"
     ]
    },
    {
     "ename": "ValueError",
     "evalue": "('{}: {}', 400, '\\n<html><head>\\n<meta http-equiv=\"content-type\" content=\"text/html;charset=utf-8\">\\n<title>400 Bad Request</title>\\n</head>\\n<body text=#000000 bgcolor=#ffffff>\\n<h1>Error: Bad Request</h1>\\n<h2>Your client has issued a malformed or illegal request.</h2>\\n<h2></h2>\\n</body></html>\\n')",
     "output_type": "error",
     "traceback": [
      "\u001b[0;31m---------------------------------------------------------------------------\u001b[0m",
      "\u001b[0;31mValueError\u001b[0m                                Traceback (most recent call last)",
      "Cell \u001b[0;32mIn[4], line 27\u001b[0m\n\u001b[1;32m     25\u001b[0m \u001b[38;5;28mprint\u001b[39m(\u001b[38;5;124mf\u001b[39m\u001b[38;5;124m\"\u001b[39m\u001b[38;5;124mresp type: \u001b[39m\u001b[38;5;132;01m{\u001b[39;00m\u001b[38;5;28mtype\u001b[39m(resp)\u001b[38;5;132;01m}\u001b[39;00m\u001b[38;5;124m\"\u001b[39m)\n\u001b[1;32m     26\u001b[0m \u001b[38;5;28;01mif\u001b[39;00m resp\u001b[38;5;241m.\u001b[39mstatus_code \u001b[38;5;241m!=\u001b[39m \u001b[38;5;241m200\u001b[39m:\n\u001b[0;32m---> 27\u001b[0m     \u001b[38;5;28;01mraise\u001b[39;00m \u001b[38;5;167;01mValueError\u001b[39;00m(\u001b[38;5;124m\"\u001b[39m\u001b[38;5;132;01m{}\u001b[39;00m\u001b[38;5;124m: \u001b[39m\u001b[38;5;132;01m{}\u001b[39;00m\u001b[38;5;124m\"\u001b[39m, resp\u001b[38;5;241m.\u001b[39mstatus_code, resp\u001b[38;5;241m.\u001b[39mtext)\n\u001b[1;32m     29\u001b[0m \u001b[38;5;28mprint\u001b[39m(json\u001b[38;5;241m.\u001b[39mdumps(resp\u001b[38;5;241m.\u001b[39mjson(), indent\u001b[38;5;241m=\u001b[39m\u001b[38;5;241m1\u001b[39m))\n",
      "\u001b[0;31mValueError\u001b[0m: ('{}: {}', 400, '\\n<html><head>\\n<meta http-equiv=\"content-type\" content=\"text/html;charset=utf-8\">\\n<title>400 Bad Request</title>\\n</head>\\n<body text=#000000 bgcolor=#ffffff>\\n<h1>Error: Bad Request</h1>\\n<h2>Your client has issued a malformed or illegal request.</h2>\\n<h2></h2>\\n</body></html>\\n')"
     ]
    }
   ],
   "source": [
    "from requests import post, get\n",
    "from os import getenv\n",
    "from datetime import datetime\n",
    "import json\n",
    "\n",
    "# NOTE: don't for get to set \"apikey\" env, or the default below.\n",
    "resp = get(\n",
    "    \"https://forecast-v2.metoceanapi.com/point/time\",\n",
    "    headers={\"x-api-key\": getenv(\"metservice_key\", \"MYAPIKEY\")},\n",
    "    json={\n",
    "        \"points\": [{\n",
    "            \"lon\": 174.7842,\n",
    "            \"lat\": -37.7935\n",
    "        }],\n",
    "        \"variables\": [\n",
    "            \"cloud.cover\",\n",
    "        ],\n",
    "        \"time\": {\n",
    "            \"from\": \"{:%Y-%m-%dT00:00:00Z}\".format(datetime.now()),\n",
    "            \"interval\": \"3h\",\n",
    "            \"repeat\": 2\n",
    "        }\n",
    "    }\n",
    ")\n",
    "print(f\"resp type: {type(resp)}\")\n",
    "if resp.status_code != 200:\n",
    "    raise ValueError(\"{}: {}\", resp.status_code, resp.text)\n",
    "\n",
    "print(json.dumps(resp.json(), indent=1))"
   ]
  },
  {
   "cell_type": "code",
   "execution_count": 17,
   "metadata": {},
   "outputs": [],
   "source": [
    "from typing import List, Dict, Union\n",
    "from pydantic import BaseModel, Field\n",
    "\n",
    "\n",
    "class PointData(BaseModel):\n",
    "    lon: float\n",
    "    lat: float\n",
    "\n",
    "\n",
    "class DimensionData(BaseModel):\n",
    "    type: str\n",
    "    units: str\n",
    "    # Union to support both 'point' and 'time' dimensions\n",
    "    data: Union[List[PointData], List[str]]\n",
    "\n",
    "\n",
    "class VariableDimension(BaseModel):\n",
    "    standardName: str\n",
    "    units: str\n",
    "    dimensions: List[str]\n",
    "    # Adjusted to support float, int, and None types\n",
    "    data: List[Union[float, int, None]]\n",
    "    noData: List[int]\n",
    "\n",
    "\n",
    "class PointsResponseModel(BaseModel):\n",
    "    dimensions: Dict[str, DimensionData]\n",
    "    noDataReasons: Dict[str, int]\n",
    "    variables: Dict[str, VariableDimension]\n",
    "\n",
    "\n",
    "parsed_response = PointsResponseModel.model_validate_json(json.dumps(resp.json()))"
   ]
  },
  {
   "cell_type": "code",
   "execution_count": 18,
   "metadata": {},
   "outputs": [
    {
     "name": "stdout",
     "output_type": "stream",
     "text": [
      "{'point': DimensionData(type='point', units='unknown', data=[PointData(lon=174.7842, lat=-37.7935)]), 'time': DimensionData(type='time', units='unknown', data=['2024-02-07T00:00:00Z', '2024-02-07T03:00:00Z', '2024-02-07T06:00:00Z'])}\n"
     ]
    }
   ],
   "source": [
    "print(parsed_response.dimensions)"
   ]
  },
  {
   "cell_type": "code",
   "execution_count": 23,
   "metadata": {},
   "outputs": [],
   "source": [
    "from typing import List, Optional\n",
    "\n",
    "class PointTimeRequest(BaseModel):\n",
    "    lat: float = Field(..., ge=-90, le=90)\n",
    "    lon: float = Field(..., ge=-180, le=360)\n",
    "    variables: List[str]\n",
    "    from_date: Optional[str] = Field(None, alias='from')\n",
    "    interval: Optional[str]\n",
    "    repeat: Optional[int]\n",
    "    models: Optional[List[str]]\n",
    "    baseModels: Optional[List[str]]\n",
    "    outputFormat: Optional[str]\n",
    "    cycleLock: Optional[str]\n",
    "    explain: Optional[bool] = False\n",
    "    extrapolate: Optional[bool] = True\n",
    "    kind: Optional[str]\n",
    "    joinModels: Optional[str]"
   ]
  },
  {
   "cell_type": "code",
   "execution_count": 24,
   "metadata": {},
   "outputs": [],
   "source": [
    "json_schema = PointTimeRequest.model_json_schema()"
   ]
  },
  {
   "cell_type": "code",
   "execution_count": 25,
   "metadata": {},
   "outputs": [
    {
     "name": "stdout",
     "output_type": "stream",
     "text": [
      "{'properties': {'lat': {'maximum': 90.0, 'minimum': -90.0, 'title': 'Lat', 'type': 'number'}, 'lon': {'maximum': 360.0, 'minimum': -180.0, 'title': 'Lon', 'type': 'number'}, 'variables': {'items': {'type': 'string'}, 'title': 'Variables', 'type': 'array'}, 'from': {'anyOf': [{'type': 'string'}, {'type': 'null'}], 'default': None, 'title': 'From'}, 'interval': {'anyOf': [{'type': 'string'}, {'type': 'null'}], 'title': 'Interval'}, 'repeat': {'anyOf': [{'type': 'integer'}, {'type': 'null'}], 'title': 'Repeat'}, 'models': {'anyOf': [{'items': {'type': 'string'}, 'type': 'array'}, {'type': 'null'}], 'title': 'Models'}, 'baseModels': {'anyOf': [{'items': {'type': 'string'}, 'type': 'array'}, {'type': 'null'}], 'title': 'Basemodels'}, 'outputFormat': {'anyOf': [{'type': 'string'}, {'type': 'null'}], 'title': 'Outputformat'}, 'cycleLock': {'anyOf': [{'type': 'string'}, {'type': 'null'}], 'title': 'Cyclelock'}, 'explain': {'anyOf': [{'type': 'boolean'}, {'type': 'null'}], 'default': False, 'title': 'Explain'}, 'extrapolate': {'anyOf': [{'type': 'boolean'}, {'type': 'null'}], 'default': True, 'title': 'Extrapolate'}, 'kind': {'anyOf': [{'type': 'string'}, {'type': 'null'}], 'title': 'Kind'}, 'joinModels': {'anyOf': [{'type': 'string'}, {'type': 'null'}], 'title': 'Joinmodels'}}, 'required': ['lat', 'lon', 'variables', 'interval', 'repeat', 'models', 'baseModels', 'outputFormat', 'cycleLock', 'kind', 'joinModels'], 'title': 'PointTimeRequest', 'type': 'object'}\n"
     ]
    }
   ],
   "source": [
    "print(json_schema)"
   ]
  }
 ],
 "metadata": {
  "kernelspec": {
   "display_name": ".venv",
   "language": "python",
   "name": "python3"
  },
  "language_info": {
   "codemirror_mode": {
    "name": "ipython",
    "version": 3
   },
   "file_extension": ".py",
   "mimetype": "text/x-python",
   "name": "python",
   "nbconvert_exporter": "python",
   "pygments_lexer": "ipython3",
   "version": "3.12.1"
  }
 },
 "nbformat": 4,
 "nbformat_minor": 2
}
