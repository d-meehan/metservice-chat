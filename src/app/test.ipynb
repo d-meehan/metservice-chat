{
 "cells": [
  {
   "cell_type": "code",
   "execution_count": 2,
   "metadata": {},
   "outputs": [],
   "source": [
    "import httpx\n",
    "import os"
   ]
  },
  {
   "cell_type": "code",
   "execution_count": 13,
   "metadata": {},
   "outputs": [
    {
     "ename": "JSONDecodeError",
     "evalue": "Expecting value: line 1 column 1 (char 0)",
     "output_type": "error",
     "traceback": [
      "\u001b[0;31m---------------------------------------------------------------------------\u001b[0m",
      "\u001b[0;31mJSONDecodeError\u001b[0m                           Traceback (most recent call last)",
      "Cell \u001b[0;32mIn[13], line 14\u001b[0m\n\u001b[1;32m     10\u001b[0m \u001b[38;5;28;01mif\u001b[39;00m nominatim_response\u001b[38;5;241m.\u001b[39mstatus_code \u001b[38;5;241m!=\u001b[39m \u001b[38;5;241m200\u001b[39m:\n\u001b[1;32m     11\u001b[0m     \u001b[38;5;28;01mraise\u001b[39;00m \u001b[38;5;167;01mValueError\u001b[39;00m(\n\u001b[1;32m     12\u001b[0m         \u001b[38;5;124mf\u001b[39m\u001b[38;5;124m\"\u001b[39m\u001b[38;5;124mRequest failed with status code \u001b[39m\u001b[38;5;132;01m{\u001b[39;00mnominatim_response\u001b[38;5;241m.\u001b[39mstatus_code\u001b[38;5;132;01m}\u001b[39;00m\u001b[38;5;124m, response: \u001b[39m\u001b[38;5;132;01m{\u001b[39;00mnominatim_response\u001b[38;5;241m.\u001b[39mheaders,\u001b[38;5;250m \u001b[39mnominatim_response\u001b[38;5;241m.\u001b[39mtext,\u001b[38;5;250m \u001b[39mnominatim_response\u001b[38;5;241m.\u001b[39murl,\u001b[38;5;250m \u001b[39mnominatim_response\u001b[38;5;241m.\u001b[39mrequest\u001b[38;5;241m.\u001b[39murl,\u001b[38;5;250m \u001b[39mnominatim_response\u001b[38;5;241m.\u001b[39mhas_redirect_location,\u001b[38;5;250m \u001b[39mnominatim_response\u001b[38;5;241m.\u001b[39mis_error,\u001b[38;5;250m \u001b[39mnominatim_response\u001b[38;5;241m.\u001b[39mis_redirect,\u001b[38;5;250m \u001b[39mnominatim_response\u001b[38;5;241m.\u001b[39mreason_phrase,\u001b[38;5;250m \u001b[39mnominatim_response\u001b[38;5;241m.\u001b[39mstatus_code,\u001b[38;5;250m \u001b[39mnominatim_response\u001b[38;5;241m.\u001b[39murl\u001b[38;5;132;01m}\u001b[39;00m\u001b[38;5;124m\"\u001b[39m\n\u001b[1;32m     13\u001b[0m     )\n\u001b[0;32m---> 14\u001b[0m nominatim_response \u001b[38;5;241m=\u001b[39m \u001b[43mnominatim_response\u001b[49m\u001b[38;5;241;43m.\u001b[39;49m\u001b[43mjson\u001b[49m\u001b[43m(\u001b[49m\u001b[43m)\u001b[49m\n\u001b[1;32m     15\u001b[0m \u001b[38;5;28mprint\u001b[39m(nominatim_response[\u001b[38;5;124m'\u001b[39m\u001b[38;5;124mresults\u001b[39m\u001b[38;5;124m'\u001b[39m])\n",
      "File \u001b[0;32m~/Code/Personal/metservice-chat/.venv/lib/python3.12/site-packages/httpx/_models.py:762\u001b[0m, in \u001b[0;36mResponse.json\u001b[0;34m(self, **kwargs)\u001b[0m\n\u001b[1;32m    761\u001b[0m \u001b[38;5;28;01mdef\u001b[39;00m \u001b[38;5;21mjson\u001b[39m(\u001b[38;5;28mself\u001b[39m, \u001b[38;5;241m*\u001b[39m\u001b[38;5;241m*\u001b[39mkwargs: typing\u001b[38;5;241m.\u001b[39mAny) \u001b[38;5;241m-\u001b[39m\u001b[38;5;241m>\u001b[39m typing\u001b[38;5;241m.\u001b[39mAny:\n\u001b[0;32m--> 762\u001b[0m     \u001b[38;5;28;01mreturn\u001b[39;00m \u001b[43mjsonlib\u001b[49m\u001b[38;5;241;43m.\u001b[39;49m\u001b[43mloads\u001b[49m\u001b[43m(\u001b[49m\u001b[38;5;28;43mself\u001b[39;49m\u001b[38;5;241;43m.\u001b[39;49m\u001b[43mcontent\u001b[49m\u001b[43m,\u001b[49m\u001b[43m \u001b[49m\u001b[38;5;241;43m*\u001b[39;49m\u001b[38;5;241;43m*\u001b[39;49m\u001b[43mkwargs\u001b[49m\u001b[43m)\u001b[49m\n",
      "File \u001b[0;32m/opt/homebrew/Cellar/python@3.12/3.12.1_1/Frameworks/Python.framework/Versions/3.12/lib/python3.12/json/__init__.py:346\u001b[0m, in \u001b[0;36mloads\u001b[0;34m(s, cls, object_hook, parse_float, parse_int, parse_constant, object_pairs_hook, **kw)\u001b[0m\n\u001b[1;32m    341\u001b[0m     s \u001b[38;5;241m=\u001b[39m s\u001b[38;5;241m.\u001b[39mdecode(detect_encoding(s), \u001b[38;5;124m'\u001b[39m\u001b[38;5;124msurrogatepass\u001b[39m\u001b[38;5;124m'\u001b[39m)\n\u001b[1;32m    343\u001b[0m \u001b[38;5;28;01mif\u001b[39;00m (\u001b[38;5;28mcls\u001b[39m \u001b[38;5;129;01mis\u001b[39;00m \u001b[38;5;28;01mNone\u001b[39;00m \u001b[38;5;129;01mand\u001b[39;00m object_hook \u001b[38;5;129;01mis\u001b[39;00m \u001b[38;5;28;01mNone\u001b[39;00m \u001b[38;5;129;01mand\u001b[39;00m\n\u001b[1;32m    344\u001b[0m         parse_int \u001b[38;5;129;01mis\u001b[39;00m \u001b[38;5;28;01mNone\u001b[39;00m \u001b[38;5;129;01mand\u001b[39;00m parse_float \u001b[38;5;129;01mis\u001b[39;00m \u001b[38;5;28;01mNone\u001b[39;00m \u001b[38;5;129;01mand\u001b[39;00m\n\u001b[1;32m    345\u001b[0m         parse_constant \u001b[38;5;129;01mis\u001b[39;00m \u001b[38;5;28;01mNone\u001b[39;00m \u001b[38;5;129;01mand\u001b[39;00m object_pairs_hook \u001b[38;5;129;01mis\u001b[39;00m \u001b[38;5;28;01mNone\u001b[39;00m \u001b[38;5;129;01mand\u001b[39;00m \u001b[38;5;129;01mnot\u001b[39;00m kw):\n\u001b[0;32m--> 346\u001b[0m     \u001b[38;5;28;01mreturn\u001b[39;00m \u001b[43m_default_decoder\u001b[49m\u001b[38;5;241;43m.\u001b[39;49m\u001b[43mdecode\u001b[49m\u001b[43m(\u001b[49m\u001b[43ms\u001b[49m\u001b[43m)\u001b[49m\n\u001b[1;32m    347\u001b[0m \u001b[38;5;28;01mif\u001b[39;00m \u001b[38;5;28mcls\u001b[39m \u001b[38;5;129;01mis\u001b[39;00m \u001b[38;5;28;01mNone\u001b[39;00m:\n\u001b[1;32m    348\u001b[0m     \u001b[38;5;28mcls\u001b[39m \u001b[38;5;241m=\u001b[39m JSONDecoder\n",
      "File \u001b[0;32m/opt/homebrew/Cellar/python@3.12/3.12.1_1/Frameworks/Python.framework/Versions/3.12/lib/python3.12/json/decoder.py:337\u001b[0m, in \u001b[0;36mJSONDecoder.decode\u001b[0;34m(self, s, _w)\u001b[0m\n\u001b[1;32m    332\u001b[0m \u001b[38;5;28;01mdef\u001b[39;00m \u001b[38;5;21mdecode\u001b[39m(\u001b[38;5;28mself\u001b[39m, s, _w\u001b[38;5;241m=\u001b[39mWHITESPACE\u001b[38;5;241m.\u001b[39mmatch):\n\u001b[1;32m    333\u001b[0m \u001b[38;5;250m    \u001b[39m\u001b[38;5;124;03m\"\"\"Return the Python representation of ``s`` (a ``str`` instance\u001b[39;00m\n\u001b[1;32m    334\u001b[0m \u001b[38;5;124;03m    containing a JSON document).\u001b[39;00m\n\u001b[1;32m    335\u001b[0m \n\u001b[1;32m    336\u001b[0m \u001b[38;5;124;03m    \"\"\"\u001b[39;00m\n\u001b[0;32m--> 337\u001b[0m     obj, end \u001b[38;5;241m=\u001b[39m \u001b[38;5;28;43mself\u001b[39;49m\u001b[38;5;241;43m.\u001b[39;49m\u001b[43mraw_decode\u001b[49m\u001b[43m(\u001b[49m\u001b[43ms\u001b[49m\u001b[43m,\u001b[49m\u001b[43m \u001b[49m\u001b[43midx\u001b[49m\u001b[38;5;241;43m=\u001b[39;49m\u001b[43m_w\u001b[49m\u001b[43m(\u001b[49m\u001b[43ms\u001b[49m\u001b[43m,\u001b[49m\u001b[43m \u001b[49m\u001b[38;5;241;43m0\u001b[39;49m\u001b[43m)\u001b[49m\u001b[38;5;241;43m.\u001b[39;49m\u001b[43mend\u001b[49m\u001b[43m(\u001b[49m\u001b[43m)\u001b[49m\u001b[43m)\u001b[49m\n\u001b[1;32m    338\u001b[0m     end \u001b[38;5;241m=\u001b[39m _w(s, end)\u001b[38;5;241m.\u001b[39mend()\n\u001b[1;32m    339\u001b[0m     \u001b[38;5;28;01mif\u001b[39;00m end \u001b[38;5;241m!=\u001b[39m \u001b[38;5;28mlen\u001b[39m(s):\n",
      "File \u001b[0;32m/opt/homebrew/Cellar/python@3.12/3.12.1_1/Frameworks/Python.framework/Versions/3.12/lib/python3.12/json/decoder.py:355\u001b[0m, in \u001b[0;36mJSONDecoder.raw_decode\u001b[0;34m(self, s, idx)\u001b[0m\n\u001b[1;32m    353\u001b[0m     obj, end \u001b[38;5;241m=\u001b[39m \u001b[38;5;28mself\u001b[39m\u001b[38;5;241m.\u001b[39mscan_once(s, idx)\n\u001b[1;32m    354\u001b[0m \u001b[38;5;28;01mexcept\u001b[39;00m \u001b[38;5;167;01mStopIteration\u001b[39;00m \u001b[38;5;28;01mas\u001b[39;00m err:\n\u001b[0;32m--> 355\u001b[0m     \u001b[38;5;28;01mraise\u001b[39;00m JSONDecodeError(\u001b[38;5;124m\"\u001b[39m\u001b[38;5;124mExpecting value\u001b[39m\u001b[38;5;124m\"\u001b[39m, s, err\u001b[38;5;241m.\u001b[39mvalue) \u001b[38;5;28;01mfrom\u001b[39;00m \u001b[38;5;28;01mNone\u001b[39;00m\n\u001b[1;32m    356\u001b[0m \u001b[38;5;28;01mreturn\u001b[39;00m obj, end\n",
      "\u001b[0;31mJSONDecodeError\u001b[0m: Expecting value: line 1 column 1 (char 0)"
     ]
    }
   ],
   "source": [
    "with httpx.Client() as request_client:\n",
    "    nominatim_response = request_client.get(\n",
    "        \"https://nominatim.openstreetmap.org/search.html?\",\n",
    "        params={\n",
    "            \"q\": 'Auckland',\n",
    "        },\n",
    "        headers={\n",
    "            \"User-Agent\": \"Mozilla/5.0 (Windows NT 10.0; Win64; x64) AppleWebKit/537.36 (KHTML, like Gecko) Chrome/58.0.3029.110 Safari/537.3\",\n",
    "        },\n",
    "    )\n",
    "\n",
    "if nominatim_response.status_code != 200:\n",
    "    raise ValueError(\n",
    "        f\"Request failed with status code {nominatim_response.status_code}, response: {nominatim_response.headers, nominatim_response.text, nominatim_response.url, nominatim_response.request.url, nominatim_response.has_redirect_location, nominatim_response.is_error, nominatim_response.is_redirect, nominatim_response.reason_phrase, nominatim_response.status_code, nominatim_response.url}\"\n",
    "    )\n",
    "nominatim_response = nominatim_response.json()\n",
    "print(nominatim_response['results'])"
   ]
  },
  {
   "cell_type": "code",
   "execution_count": 17,
   "metadata": {},
   "outputs": [],
   "source": [
    "latitude = geocode_response['results'][0]['geometry']['location']['lat']\n",
    "longitude = geocode_response['results'][0]['geometry']['location']['lng']"
   ]
  },
  {
   "cell_type": "code",
   "execution_count": 21,
   "metadata": {},
   "outputs": [],
   "source": [
    "with httpx.Client() as request_client:\n",
    "    tairua_geocode_response = request_client.get(\n",
    "        \"https://maps.googleapis.com/maps/api/geocode/json\",\n",
    "        params={\n",
    "            \"address\": 'Tairua',\n",
    "            \"key\": os.environ[\"GOOGLE_MAPS_API_KEY\"]\n",
    "        }\n",
    "    )\n",
    "\n",
    "if tairua_geocode_response.status_code != 200:\n",
    "    raise ValueError(\n",
    "        f\"Request failed with status code {tairua_geocode_response.status_code}\"\n",
    "    )\n",
    "tairua_geocode_response = tairua_geocode_response.json()\n"
   ]
  },
  {
   "cell_type": "code",
   "execution_count": 22,
   "metadata": {},
   "outputs": [],
   "source": [
    "tairua_latitude = tairua_geocode_response['results'][0]['geometry']['location']['lat']\n",
    "tairua_longitude = tairua_geocode_response['results'][0]['geometry']['location']['lng']"
   ]
  },
  {
   "cell_type": "code",
   "execution_count": 24,
   "metadata": {},
   "outputs": [],
   "source": [
    "my_lat = -36.8511689\n",
    "my_lon = 174.8530858"
   ]
  },
  {
   "cell_type": "code",
   "execution_count": 28,
   "metadata": {},
   "outputs": [
    {
     "name": "stdout",
     "output_type": "stream",
     "text": [
      "Auckland CBD, Auckland 1010, New Zealand\n",
      "Tairua, New Zealand\n",
      "St Heliers, Auckland, New Zealand\n"
     ]
    }
   ],
   "source": [
    "with httpx.Client() as request_client:\n",
    "    geocode_response = request_client.get(\n",
    "        \"https://maps.googleapis.com/maps/api/geocode/json\",\n",
    "        params={\n",
    "            \"latlng\": f\"{latitude},{longitude}\",\n",
    "            \"key\": os.environ[\"GOOGLE_MAPS_API_KEY\"],\n",
    "            \"result_type\": \"political\"\n",
    "        }\n",
    "    )\n",
    "\n",
    "if geocode_response.status_code != 200:\n",
    "    raise ValueError(\n",
    "        f\"Request failed with status code {geocode_response.status_code}\"\n",
    "    )\n",
    "geocode_response = geocode_response.json()\n",
    "\n",
    "print(geocode_response['results'][0]['formatted_address'])\n",
    "\n",
    "with httpx.Client() as request_client:\n",
    "    tairua_geocode_response = request_client.get(\n",
    "        \"https://maps.googleapis.com/maps/api/geocode/json\",\n",
    "        params={\n",
    "            \"latlng\": f\"{tairua_latitude},{tairua_longitude\n",
    "            }\",\n",
    "            \"key\": os.environ[\"GOOGLE_MAPS_API_KEY\"],\n",
    "            \"result_type\": \"political\"\n",
    "        }\n",
    "    )\n",
    "\n",
    "if tairua_geocode_response.status_code != 200:\n",
    "    raise ValueError(\n",
    "        f\"Request failed with status code {tairua_geocode_response.status_code}\"\n",
    "    )\n",
    "tairua_geocode_response = tairua_geocode_response.json()\n",
    "print(tairua_geocode_response['results'][0]['formatted_address'])\n",
    "\n",
    "with httpx.Client() as request_client:\n",
    "    my_geocode_response = request_client.get(\n",
    "        \"https://maps.googleapis.com/maps/api/geocode/json\",\n",
    "        params={\n",
    "            \"latlng\": f\"{my_lat},{my_lon}\",\n",
    "            \"key\": os.environ[\"GOOGLE_MAPS_API_KEY\"],\n",
    "            \"result_type\": \"political\"\n",
    "        }\n",
    "    )\n",
    "\n",
    "if my_geocode_response.status_code != 200:\n",
    "    raise ValueError(\n",
    "        f\"Request failed with status code {my_geocode_response.status_code}\"\n",
    "    )\n",
    "my_geocode_response = my_geocode_response.json()\n",
    "print(my_geocode_response['results'][0]['formatted_address'])"
   ]
  }
 ],
 "metadata": {
  "kernelspec": {
   "display_name": ".venv",
   "language": "python",
   "name": "python3"
  },
  "language_info": {
   "codemirror_mode": {
    "name": "ipython",
    "version": 3
   },
   "file_extension": ".py",
   "mimetype": "text/x-python",
   "name": "python",
   "nbconvert_exporter": "python",
   "pygments_lexer": "ipython3",
   "version": "3.12.1"
  }
 },
 "nbformat": 4,
 "nbformat_minor": 2
}
