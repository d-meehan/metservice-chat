{
 "cells": [
  {
   "cell_type": "code",
   "execution_count": 1,
   "metadata": {},
   "outputs": [],
   "source": [
    "from datetime import datetime\n",
    "from pydantic import BaseModel, Field, ConfigDict\n",
    "from typing import List, Optional\n",
    "from schema import MetservicePointTimeRequest, GPTResponseToWeatherQuery, GPTMessage\n",
    "from utils.constants import METSERVICE_VARIABLES\n",
    "from loguru import logger\n",
    "import instructor\n",
    "import openai\n",
    "import googlemaps\n",
    "from dotenv import load_dotenv\n",
    "import os"
   ]
  },
  {
   "cell_type": "code",
   "execution_count": 2,
   "metadata": {},
   "outputs": [
    {
     "name": "stderr",
     "output_type": "stream",
     "text": [
      "/var/folders/0s/pn0r0b8120ngcq1d6j4d6tzc0000gn/T/ipykernel_16009/1754544606.py:3: DeprecationWarning: apatch is deprecated, use patch instead\n",
      "  pydantic_client = instructor.apatch(\n"
     ]
    }
   ],
   "source": [
    "load_dotenv()\n",
    "\n",
    "pydantic_client = instructor.apatch(\n",
    "    openai.AsyncOpenAI(api_key=os.environ['OPENAI_API_KEY']))\n",
    "client = openai.AsyncOpenAI(api_key=os.environ['OPENAI_API_KEY'])\n",
    "gmaps = googlemaps.Client(key=os.environ['GOOGLE_MAPS_API_KEY'])"
   ]
  },
  {
   "cell_type": "code",
   "execution_count": 3,
   "metadata": {},
   "outputs": [],
   "source": [
    "data_store = []\n",
    "chat_log = []"
   ]
  },
  {
   "cell_type": "code",
   "execution_count": 4,
   "metadata": {},
   "outputs": [],
   "source": [
    "response_model = GPTResponseToWeatherQuery\n",
    "user_message = \"What's the weather like in Auckland tomorrow?\"\n",
    "chat_log.append(GPTMessage(role=\"user\", content=user_message))\n",
    "GPT_messages = [\n",
    "    {\"role\": \"system\", \"content\":\n",
    "             f\"\"\"You are WeatherBot, a chatbot that can answer any user query about the weather.\n",
    "\n",
    "            You will receive a user query and must respond with the outlined JSON structure.\n",
    "            You'll also receive historical chat logs so you have context on the conversation.\n",
    "            The date and time right now is {datetime.now().isoformat()}. This might be helpful if the user query contains a relative date or time.\n",
    "\n",
    "            When answering, please adhere to the following rules:\n",
    "            - If the query is not weather related, please answer the user query as best as you can and remind them that you are a weather bot.\n",
    "            - You can only answer user queries based on the information you receive from a weather API.\n",
    "            - Previous information from the weather API can be found in the provided DATA STORE.\n",
    "            - If the data is insufficient to answer the query or empty, you can request additional data from the API by returning sufficient_data_check as False and request additional data using the other fields.\n",
    "            - If the data is insufficient, include a holding message in the response field while we request data from the API.\n",
    "            - Please ensure that your request will provide the right data for another language model to answer the query.\n",
    "            - For variables, you can select from the provided list. Please only select the most relevant variables to answer the query.\n",
    "            - Make sure you get enough data. For example, if the request is for tomorrow, get data for the whole day.\n",
    "            - If weather_query_check and sufficient_data_check are both true, you must respond to the weather query as WeatherBot. Open your query with a succint summary of the weather and give the most important details.\n",
    "            - If the request doesn't contain a specific time, make sure that the from_datetime, interval and repeat fields would request enough data from the API for a language model to answer the query with the received data.\n",
    "            - The from_datetime field can only be values on the hour, e.g. 2022-01-01T00:00:00Z, 2022-01-01T01:00:00Z, 2022-01-01T02:00:00Z, etc.\n",
    "            - If the user request is for the weather now, please request the data at the previous hour mark plus one additional hour of data.\n",
    "            - Give any temperature in degrees Celsius, any wind speed in kilometres per hour, and any time in NZDT.\n",
    "            - Don't go into too much detail, be succinct. No one likes to hear every single detail about the weather.\n",
    "\n",
    "            ______________________________\n",
    "            DATA STORE\n",
    "            ______________________________\n",
    "            {data_store}\n",
    "            ______________________________\n",
    "            VARIABLES\n",
    "            ______________________________\n",
    "            {METSERVICE_VARIABLES}\n",
    "            REMEMBER THE RULES:\n",
    "            - If the query is not weather related, please answer the user query as best as you can and remind them that you are a weather bot.\n",
    "            - You can only answer user queries based on the information you receive from a weather API.\n",
    "            - Previous information from the weather API can be found in the provided DATA STORE.\n",
    "            - If the data is insufficient to answer the query or empty, you can request additional data from the API by returning sufficient_data_check as False and request additional data using the other fields.\n",
    "            - If the data is insufficient, include a holding message in the response field while we request data from the API.\n",
    "            - Please ensure that your request will provide the right data for another language model to answer the query.\n",
    "            - For variables, you can select from the provided list. Please only select the most relevant variables to answer the query.\n",
    "            - Make sure you get enough data. For example, if the request is for tomorrow, get data for the whole day.\n",
    "            - If weather_query_check and sufficient_data_check are both true, you must respond to the weather query as WeatherBot. Open your query with a succint summary of the weather and give the most important details.\n",
    "            - If the request doesn't contain a specific time, make sure that the from_datetime, interval and repeat fields would request enough data from the API for a language model to answer the query with the received data.\n",
    "            - The from_datetime field can only be values on the hour, e.g. 2022-01-01T00:00:00Z, 2022-01-01T01:00:00Z, 2022-01-01T02:00:00Z, etc.\n",
    "            - If the user request is for the weather now, please request the data at the previous hour mark plus one additional hour of data.\n",
    "            - Give any temperature in degrees Celsius, any wind speed in kilometres per hour, and any time in NZDT.\n",
    "            - Don't go into too much detail, be succinct. No one likes to hear every single detail about the weather.\"\"\"\n",
    "     },\n",
    "]"
   ]
  },
  {
   "cell_type": "code",
   "execution_count": 5,
   "metadata": {},
   "outputs": [
    {
     "name": "stdout",
     "output_type": "stream",
     "text": [
      "role='user' content=\"What's the weather like in Auckland tomorrow?\"\n",
      "Messages: [{'role': 'system', 'content': \"You are WeatherBot, a chatbot that can answer any user query about the weather.\\n\\n            You will receive a user query and must respond with the outlined JSON structure.\\n            You'll also receive historical chat logs so you have context on the conversation.\\n            The date and time right now is 2024-02-11T16:52:24.353598. This might be helpful if the user query contains a relative date or time.\\n\\n            When answering, please adhere to the following rules:\\n            - If the query is not weather related, please answer the user query as best as you can and remind them that you are a weather bot.\\n            - You can only answer user queries based on the information you receive from a weather API.\\n            - Previous information from the weather API can be found in the provided DATA STORE.\\n            - If the data is insufficient to answer the query or empty, you can request additional data from the API by returning sufficient_data_check as False and request additional data using the other fields.\\n            - If the data is insufficient, include a holding message in the response field while we request data from the API.\\n            - Please ensure that your request will provide the right data for another language model to answer the query.\\n            - For variables, you can select from the provided list. Please only select the most relevant variables to answer the query.\\n            - Make sure you get enough data. For example, if the request is for tomorrow, get data for the whole day.\\n            - If weather_query_check and sufficient_data_check are both true, you must respond to the weather query as WeatherBot. Open your query with a succint summary of the weather and give the most important details.\\n            - If the request doesn't contain a specific time, make sure that the from_datetime, interval and repeat fields would request enough data from the API for a language model to answer the query with the received data.\\n            - The from_datetime field can only be values on the hour, e.g. 2022-01-01T00:00:00Z, 2022-01-01T01:00:00Z, 2022-01-01T02:00:00Z, etc.\\n            - If the user request is for the weather now, please request the data at the previous hour mark plus one additional hour of data.\\n            - Give any temperature in degrees Celsius, any wind speed in kilometres per hour, and any time in NZDT.\\n            - Don't go into too much detail, be succinct. No one likes to hear every single detail about the weather.\\n\\n            ______________________________\\n            DATA STORE\\n            ______________________________\\n            []\\n            ______________________________\\n            VARIABLES\\n            ______________________________\\n            ['air.humidity.at-2m', 'air.pressure.at-sea-level', 'air.temperature.at-2m', 'air.visibility', 'atmosphere.convective.potential.energy', 'cloud.base.height', 'cloud.cover', 'precipitation.rate', 'radiation.flux.downward.longwave', 'radiation.flux.downward.shortwave', 'wind.direction.at-10m', 'wind.direction.at-100m', 'wind.speed.at-10m', 'wind.speed.at-100m', 'wind.speed.eastward.at-100m', 'wind.speed.eastward.at-10m', 'wind.speed.gust.at-10m', 'wind.speed.northward.at-100m', 'wind.speed.northward.at-10m', 'wave.height', 'wave.height.max', 'wave.direction.peak', 'wave.period.peak', 'wave.height.above-8s', 'wave.height.below-8s', 'wave.period.above-8s.peak', 'wave.period.below-8s.peak', 'wave.direction.above-8s.peak', 'wave.direction.below-8s.peak', 'wave.direction.mean', 'wave.directional-spread', 'wave.period.tm01.mean', 'wave.period.tm02.mean', 'current.speed.eastward.at-sea-surface', 'current.speed.eastward.at-sea-surface-no-tide', 'current.speed.eastward.barotropic', 'current.speed.eastward.barotropic-no-tide', 'current.speed.northward.at-sea-surface', 'current.speed.northward.at-sea-surface-no-tide', 'current.speed.northward.barotropic', 'current.speed.northward.barotropic-no-tide', 'sea.temperature.at-surface', 'sea.temperature.at-surface-anomaly']\\n            REMEMBER THE RULES:\\n            - If the query is not weather related, please answer the user query as best as you can and remind them that you are a weather bot.\\n            - You can only answer user queries based on the information you receive from a weather API.\\n            - Previous information from the weather API can be found in the provided DATA STORE.\\n            - If the data is insufficient to answer the query or empty, you can request additional data from the API by returning sufficient_data_check as False and request additional data using the other fields.\\n            - If the data is insufficient, include a holding message in the response field while we request data from the API.\\n            - Please ensure that your request will provide the right data for another language model to answer the query.\\n            - For variables, you can select from the provided list. Please only select the most relevant variables to answer the query.\\n            - Make sure you get enough data. For example, if the request is for tomorrow, get data for the whole day.\\n            - If weather_query_check and sufficient_data_check are both true, you must respond to the weather query as WeatherBot. Open your query with a succint summary of the weather and give the most important details.\\n            - If the request doesn't contain a specific time, make sure that the from_datetime, interval and repeat fields would request enough data from the API for a language model to answer the query with the received data.\\n            - The from_datetime field can only be values on the hour, e.g. 2022-01-01T00:00:00Z, 2022-01-01T01:00:00Z, 2022-01-01T02:00:00Z, etc.\\n            - If the user request is for the weather now, please request the data at the previous hour mark plus one additional hour of data.\\n            - Give any temperature in degrees Celsius, any wind speed in kilometres per hour, and any time in NZDT.\\n            - Don't go into too much detail, be succinct. No one likes to hear every single detail about the weather.\"}, {'role': 'user', 'content': \"What's the weather like in Auckland tomorrow?\"}]\n"
     ]
    }
   ],
   "source": [
    "for message in chat_log:\n",
    "    print(message)\n",
    "    GPT_messages.append({\"role\": message.role, \"content\": message.content})\n",
    "print(f\"Messages: {GPT_messages}\")"
   ]
  },
  {
   "cell_type": "code",
   "execution_count": 6,
   "metadata": {},
   "outputs": [],
   "source": [
    "response = await pydantic_client.chat.completions.create(\n",
    "    model=\"gpt-4-turbo-preview\",\n",
    "    response_model=response_model,\n",
    "    messages=GPT_messages,\n",
    ")"
   ]
  },
  {
   "cell_type": "code",
   "execution_count": 7,
   "metadata": {},
   "outputs": [],
   "source": [
    "class Message(BaseModel):\n",
    "    text: str\n",
    "    name: str\n",
    "    stamp: str\n",
    "    avatar: str\n",
    "    sent: bool"
   ]
  },
  {
   "cell_type": "code",
   "execution_count": 8,
   "metadata": {},
   "outputs": [],
   "source": [
    "import httpx\n",
    "import json"
   ]
  },
  {
   "cell_type": "code",
   "execution_count": 9,
   "metadata": {},
   "outputs": [],
   "source": [
    "async def GPT_response(user_message: str, chat_log: list[GPTMessage], data_store: list[str], response_model: BaseModel) -> GPTResponseToWeatherQuery:\n",
    "    GPT_messages = [\n",
    "        {\"role\": \"system\", \"content\":\n",
    "         f\"\"\"You are WeatherBot, a chatbot that can answer any user query about the weather.\n",
    "\n",
    "            You will receive a user query and must respond with the outlined JSON structure.\n",
    "            You'll also receive historical chat logs so you have context on the conversation.\n",
    "            The date and time right now is {datetime.now().isoformat()}. This might be helpful if the user query contains a relative date or time.\n",
    "\n",
    "            When answering, please adhere to the following rules:\n",
    "            - If the query is not weather related, please answer the user query as best as you can and remind them that you are a weather bot.\n",
    "            - You can only answer user queries based on the information you receive from a weather API.\n",
    "            - Previous information from the weather API can be found in the provided DATA STORE.\n",
    "            - If the data is insufficient to answer the query or empty, you can request additional data from the API by returning sufficient_data_check as False and request additional data using the other fields.\n",
    "            - If the data is insufficient, include a holding message in the response field while we request data from the API.\n",
    "            - Please ensure that your request will provide the right data for another language model to answer the query.\n",
    "            - For variables, you can select from the provided list. Please only select the most relevant variables to answer the query.\n",
    "            - Make sure you get enough data. For example, if the request is for tomorrow, get data for the whole day.\n",
    "            - If weather_query_check and sufficient_data_check are both true, you must respond to the weather query as WeatherBot. Open your query with a succint summary of the weather and give the most important details.\n",
    "            - If the request doesn't contain a specific time, make sure that the from_datetime, interval and repeat fields would request enough data from the API for a language model to answer the query with the received data.\n",
    "            - The from_datetime field can only be values on the hour, e.g. 2022-01-01T00:00:00Z, 2022-01-01T01:00:00Z, 2022-01-01T02:00:00Z, etc.\n",
    "            - If the user request is for the weather now, please request the data at the previous hour mark plus one additional hour of data.\n",
    "            - Give any temperature in degrees Celsius, any wind speed in kilometres per hour, and any time in NZDT.\n",
    "            - Don't go into too much detail, be succinct. No one likes to hear every single detail about the weather.\n",
    "\n",
    "            ______________________________\n",
    "            DATA STORE\n",
    "            ______________________________\n",
    "            {data_store}\n",
    "            ______________________________\n",
    "            VARIABLES\n",
    "            ______________________________\n",
    "            {METSERVICE_VARIABLES}\n",
    "\n",
    "            REMEMBER THE RULES:\n",
    "            - If the query is not weather related, please answer the user query as best as you can and remind them that you are a weather bot.\n",
    "            - You can only answer user queries based on the information you receive from a weather API.\n",
    "            - Previous information from the weather API can be found in the provided DATA STORE.\n",
    "            - If the data is insufficient to answer the query or empty, you can request additional data from the API by returning sufficient_data_check as False and request additional data using the other fields.\n",
    "            - If the data is insufficient, include a holding message in the response field while we request data from the API.\n",
    "            - Please ensure that your request will provide the right data for another language model to answer the query.\n",
    "            - For variables, you can select from the provided list. Please only select the most relevant variables to answer the query.\n",
    "            - Make sure you get enough data. For example, if the request is for tomorrow, get data for the whole day.\n",
    "            - If weather_query_check and sufficient_data_check are both true, you must respond to the weather query as WeatherBot. Open your query with a succint summary of the weather and give the most important details.\n",
    "            - If the request doesn't contain a specific time, make sure that the from_datetime, interval and repeat fields would request enough data from the API for a language model to answer the query with the received data.\n",
    "            - The from_datetime field can only be values on the hour, e.g. 2022-01-01T00:00:00Z, 2022-01-01T01:00:00Z, 2022-01-01T02:00:00Z, etc.\n",
    "            - If the user request is for the weather now, please request the data at the previous hour mark plus one additional hour of data.\n",
    "            - Give any temperature in degrees Celsius, any wind speed in kilometres per hour, and any time in NZDT.\n",
    "            - Don't go into too much detail, be succinct. No one likes to hear every single detail about the weather.\"\"\"\n",
    "         },\n",
    "    ]\n",
    "    for message in chat_log:\n",
    "        print(message)\n",
    "        GPT_messages.insert(-1, {\"role\": message.role, \"content\": message.content})\n",
    "    logger.info(f\"Messages: {GPT_messages}\")\n",
    "    response = await pydantic_client.chat.completions.create(\n",
    "        model=\"gpt-4-turbo-preview\",\n",
    "        response_model=response_model,\n",
    "        messages=GPT_messages,\n",
    "    )\n",
    "\n",
    "    assert isinstance(response, GPTResponseToWeatherQuery)\n",
    "    logger.info(f\"GPT response: {response}\")\n",
    "    return response"
   ]
  },
  {
   "cell_type": "code",
   "execution_count": 10,
   "metadata": {},
   "outputs": [],
   "source": [
    "async def location_to_lat_lon(response: GPTResponseToWeatherQuery) -> MetservicePointTimeRequest:\n",
    "    logger.info(f\"Location: {response.location}\")\n",
    "    async with httpx.AsyncClient() as request_client:\n",
    "        geocode_response = await request_client.get(\n",
    "            \"https://maps.googleapis.com/maps/api/geocode/json\",\n",
    "            params={\n",
    "                \"address\": response.location,\n",
    "                \"key\": os.environ[\"GOOGLE_MAPS_API_KEY\"]\n",
    "            }\n",
    "        )\n",
    "    if geocode_response.status_code != 200:\n",
    "        raise ValueError(f\"Request failed with status code {geocode_response.status_code}\")\n",
    "    geocode_response = geocode_response.json()\n",
    "\n",
    "    metservice_request = MetservicePointTimeRequest(\n",
    "        latitude=geocode_response['results'][0]['geometry']['location']['lat'],\n",
    "        longitude=geocode_response['results'][0]['geometry']['location']['lng'],\n",
    "        variables=response.variables,\n",
    "        from_datetime=response.from_datetime,\n",
    "        interval=response.interval,\n",
    "        repeat=response.repeat\n",
    "    )\n",
    "\n",
    "    return metservice_request"
   ]
  },
  {
   "cell_type": "code",
   "execution_count": 11,
   "metadata": {},
   "outputs": [],
   "source": [
    "async def metservice_api_call(request: MetservicePointTimeRequest) -> str:\n",
    "    logger.info(f\"Request: {request}\")\n",
    "    async with httpx.AsyncClient() as request_client:\n",
    "        response = await request_client.post(\n",
    "            \"https://forecast-v2.metoceanapi.com/point/time\",\n",
    "            headers={\"x-api-key\": os.environ[\"METSERVICE_KEY\"]},\n",
    "            json={\n",
    "                \"points\": [{\n",
    "                    \"lon\": request.longitude,\n",
    "                    \"lat\": request.latitude,\n",
    "                }],\n",
    "                \"variables\": request.variables,\n",
    "                \"time\": {\n",
    "                    \"from\": request.from_datetime,\n",
    "                    \"interval\": request.interval,\n",
    "                    \"repeat\": request.repeat\n",
    "                }\n",
    "            }\n",
    "        )\n",
    "\n",
    "    if response.status_code != 200:\n",
    "        raise ValueError(f\"Request failed with status code {response.status_code}\")\n",
    "    logger.info(f\"API response: {response.json()}\")\n",
    "    return json.dumps(response.json(), indent=4)"
   ]
  },
  {
   "cell_type": "code",
   "execution_count": 12,
   "metadata": {},
   "outputs": [],
   "source": [
    "async def generate_response(data: str, user_message: str) -> str:\n",
    "    logger.info(f\"Data: {data}\")\n",
    "    response = await client.chat.completions.create(\n",
    "        model=\"gpt-4-turbo-preview\",\n",
    "        # stream=True,\n",
    "        messages=[\n",
    "            {\"role\": \"system\", \"content\":\n",
    "             f\"\"\"You are an expert weatherperson, skilled at answering requests about the weather in a clear, helpful and succinct manner. Use your expertise to answer the user query, only making use of the weather data below, which is being supplied to you by a weather API based on the user request.\n",
    "        ______________________________\n",
    "        DATA\n",
    "        ______________________________\n",
    "        {data}\"\"\"\n",
    "            },\n",
    "            {\"role\": \"user\", \"content\": user_message}\n",
    "        ]\n",
    "    )\n",
    "    logger.info(f\"Response: {response.choices[0].message.content}\")\n",
    "    return response.choices[0].message.content"
   ]
  },
  {
   "cell_type": "code",
   "execution_count": 13,
   "metadata": {},
   "outputs": [],
   "source": [
    "messages =[]"
   ]
  },
  {
   "cell_type": "code",
   "execution_count": 14,
   "metadata": {},
   "outputs": [],
   "source": [
    "messages.append(user_message)"
   ]
  },
  {
   "cell_type": "code",
   "execution_count": 15,
   "metadata": {},
   "outputs": [
    {
     "name": "stderr",
     "output_type": "stream",
     "text": [
      "\u001b[32m2024-02-11 16:52:28.451\u001b[0m | \u001b[1mINFO    \u001b[0m | \u001b[36m__main__\u001b[0m:\u001b[36mlocation_to_lat_lon\u001b[0m:\u001b[36m2\u001b[0m - \u001b[1mLocation: Auckland\u001b[0m\n",
      "\u001b[32m2024-02-11 16:52:28.832\u001b[0m | \u001b[1mINFO    \u001b[0m | \u001b[36m__main__\u001b[0m:\u001b[36mmetservice_api_call\u001b[0m:\u001b[36m2\u001b[0m - \u001b[1mRequest: latitude=-36.85088270000001 longitude=174.7644881 variables=['air.temperature.at-2m', 'cloud.cover', 'precipitation.rate', 'wind.speed.at-10m'] from_datetime='2024-02-12T00:00:00Z' interval='1h' repeat=24\u001b[0m\n",
      "\u001b[32m2024-02-11 16:52:29.200\u001b[0m | \u001b[1mINFO    \u001b[0m | \u001b[36m__main__\u001b[0m:\u001b[36mmetservice_api_call\u001b[0m:\u001b[36m23\u001b[0m - \u001b[1mAPI response: {'dimensions': {'point': {'type': 'point', 'units': 'unknown', 'data': [{'lon': 174.7644881, 'lat': -36.85088270000001}]}, 'time': {'type': 'time', 'units': 'unknown', 'data': ['2024-02-12T00:00:00Z', '2024-02-12T01:00:00Z', '2024-02-12T02:00:00Z', '2024-02-12T03:00:00Z', '2024-02-12T04:00:00Z', '2024-02-12T05:00:00Z', '2024-02-12T06:00:00Z', '2024-02-12T07:00:00Z', '2024-02-12T08:00:00Z', '2024-02-12T09:00:00Z', '2024-02-12T10:00:00Z', '2024-02-12T11:00:00Z', '2024-02-12T12:00:00Z', '2024-02-12T13:00:00Z', '2024-02-12T14:00:00Z', '2024-02-12T15:00:00Z', '2024-02-12T16:00:00Z', '2024-02-12T17:00:00Z', '2024-02-12T18:00:00Z', '2024-02-12T19:00:00Z', '2024-02-12T20:00:00Z', '2024-02-12T21:00:00Z', '2024-02-12T22:00:00Z', '2024-02-12T23:00:00Z', '2024-02-13T00:00:00Z']}}, 'noDataReasons': {'ERROR_INTERNAL': 3, 'FILL': 5, 'GAP': 4, 'GOOD': 0, 'INVALID_HIGH': 2, 'INVALID_LOW': 1}, 'variables': {'air.temperature.at-2m': {'standardName': 'air_temperature_at_2m_above_ground_level', 'units': 'degreeK', 'siUnits': 'K', 'dimensions': ['time', 'point'], 'data': [295.05762, 294.9482, 294.8388, 294.72937, 294.51956, 294.30975, 294.09995, 293.21942, 292.3389, 291.45837, 290.81146, 290.16455, 289.5176, 289.18933, 288.86102, 288.5327, 288.28378, 288.03485, 287.7859, 289.50693, 291.22794, 292.94894, 293.95355, 294.95816, 295.96277], 'noData': [0, 0, 0, 0, 0, 0, 0, 0, 0, 0, 0, 0, 0, 0, 0, 0, 0, 0, 0, 0, 0, 0, 0, 0, 0]}, 'cloud.cover': {'standardName': 'cloud_area_fraction', 'units': 'percent', 'dimensions': ['time', 'point'], 'data': [48.28093, 55.34045, 62.39997, 69.45949, 66.40419, 63.34888, 60.293575, 51.328896, 42.364216, 33.399536, 25.036171, 16.672808, 8.309443, 15.670826, 23.032207, 30.393589, 23.116856, 15.84012, 8.563384, 10.014595, 11.465805, 12.917014, 39.374672, 65.83232, 92.28998], 'noData': [0, 0, 0, 0, 0, 0, 0, 0, 0, 0, 0, 0, 0, 0, 0, 0, 0, 0, 0, 0, 0, 0, 0, 0, 0]}, 'precipitation.rate': {'standardName': 'lwe_precipitation_rate', 'units': 'millimeterPerHour', 'siUnits': 'mm.hr^{-1}', 'dimensions': ['time', 'point'], 'data': [0.0074540875, 0.041449066, 0.07544404, 0.109439015, 0.10931945, 0.10919988, 0.10908031, 0.07286644, 0.036652565, 0.00043869021, 0.00043869021, 0.00043869021, 0.00043869021, 0.00043869021, 0.00043869021, 0.00043869021, 0.00043869021, 0.00043869021, 0.00043869021, 0.00043869021, 0.00043869021, 0.00043869021, 0.00043869021, 0.00043869021, 0.00043869021], 'noData': [0, 0, 0, 0, 0, 0, 0, 0, 0, 0, 0, 0, 0, 0, 0, 0, 0, 0, 0, 0, 0, 0, 0, 0, 0]}, 'wind.speed.at-10m': {'standardName': 'wind_speed_at_10m_above_ground_level', 'units': 'meterPerSecond', 'siUnits': 'm.s^{-1}', 'dimensions': ['time', 'point'], 'data': [3.0735972, 3.4077895, 3.76203, 4.131164, 3.2936835, 2.4737372, 1.6969368, 0.8377785, 0.19984311, 0.94540375, 1.2221705, 1.4998977, 1.7781355, 1.8792418, 1.999215, 2.1348763, 2.1983697, 2.2621524, 2.3262002, 2.4403002, 2.5899978, 2.7695262, 2.4794488, 2.1893754, 1.8993078], 'noData': [0, 0, 0, 0, 0, 0, 0, 0, 0, 0, 0, 0, 0, 0, 0, 0, 0, 0, 0, 0, 0, 0, 0, 0, 0]}}}\u001b[0m\n",
      "\u001b[32m2024-02-11 16:52:29.202\u001b[0m | \u001b[1mINFO    \u001b[0m | \u001b[36m__main__\u001b[0m:\u001b[36mGPT_response\u001b[0m:\u001b[36m55\u001b[0m - \u001b[1mMessages: [{'role': 'user', 'content': \"What's the weather like in Auckland tomorrow?\"}, {'role': 'assistant', 'content': 'I need to gather data on the weather in Auckland tomorrow before I can provide an accurate forecast. Please hold on while I request the necessary information.'}, {'role': 'user', 'content': \"What's the weather like in Auckland tomorrow?\"}, {'role': 'system', 'content': 'You are WeatherBot, a chatbot that can answer any user query about the weather.\\n\\n            You will receive a user query and must respond with the outlined JSON structure.\\n            You\\'ll also receive historical chat logs so you have context on the conversation.\\n            The date and time right now is 2024-02-11T16:52:29.202259. This might be helpful if the user query contains a relative date or time.\\n\\n            When answering, please adhere to the following rules:\\n            - If the query is not weather related, please answer the user query as best as you can and remind them that you are a weather bot.\\n            - You can only answer user queries based on the information you receive from a weather API.\\n            - Previous information from the weather API can be found in the provided DATA STORE.\\n            - If the data is insufficient to answer the query or empty, you can request additional data from the API by returning sufficient_data_check as False and request additional data using the other fields.\\n            - If the data is insufficient, include a holding message in the response field while we request data from the API.\\n            - Please ensure that your request will provide the right data for another language model to answer the query.\\n            - For variables, you can select from the provided list. Please only select the most relevant variables to answer the query.\\n            - Make sure you get enough data. For example, if the request is for tomorrow, get data for the whole day.\\n            - If weather_query_check and sufficient_data_check are both true, you must respond to the weather query as WeatherBot. Open your query with a succint summary of the weather and give the most important details.\\n            - If the request doesn\\'t contain a specific time, make sure that the from_datetime, interval and repeat fields would request enough data from the API for a language model to answer the query with the received data.\\n            - The from_datetime field can only be values on the hour, e.g. 2022-01-01T00:00:00Z, 2022-01-01T01:00:00Z, 2022-01-01T02:00:00Z, etc.\\n            - If the user request is for the weather now, please request the data at the previous hour mark plus one additional hour of data.\\n            - Give any temperature in degrees Celsius, any wind speed in kilometres per hour, and any time in NZDT.\\n            - Don\\'t go into too much detail, be succinct. No one likes to hear every single detail about the weather.\\n\\n            ______________________________\\n            DATA STORE\\n            ______________________________\\n            [\\'{\\\\n    \"dimensions\": {\\\\n        \"point\": {\\\\n            \"type\": \"point\",\\\\n            \"units\": \"unknown\",\\\\n            \"data\": [\\\\n                {\\\\n                    \"lon\": 174.7644881,\\\\n                    \"lat\": -36.85088270000001\\\\n                }\\\\n            ]\\\\n        },\\\\n        \"time\": {\\\\n            \"type\": \"time\",\\\\n            \"units\": \"unknown\",\\\\n            \"data\": [\\\\n                \"2024-02-12T00:00:00Z\",\\\\n                \"2024-02-12T01:00:00Z\",\\\\n                \"2024-02-12T02:00:00Z\",\\\\n                \"2024-02-12T03:00:00Z\",\\\\n                \"2024-02-12T04:00:00Z\",\\\\n                \"2024-02-12T05:00:00Z\",\\\\n                \"2024-02-12T06:00:00Z\",\\\\n                \"2024-02-12T07:00:00Z\",\\\\n                \"2024-02-12T08:00:00Z\",\\\\n                \"2024-02-12T09:00:00Z\",\\\\n                \"2024-02-12T10:00:00Z\",\\\\n                \"2024-02-12T11:00:00Z\",\\\\n                \"2024-02-12T12:00:00Z\",\\\\n                \"2024-02-12T13:00:00Z\",\\\\n                \"2024-02-12T14:00:00Z\",\\\\n                \"2024-02-12T15:00:00Z\",\\\\n                \"2024-02-12T16:00:00Z\",\\\\n                \"2024-02-12T17:00:00Z\",\\\\n                \"2024-02-12T18:00:00Z\",\\\\n                \"2024-02-12T19:00:00Z\",\\\\n                \"2024-02-12T20:00:00Z\",\\\\n                \"2024-02-12T21:00:00Z\",\\\\n                \"2024-02-12T22:00:00Z\",\\\\n                \"2024-02-12T23:00:00Z\",\\\\n                \"2024-02-13T00:00:00Z\"\\\\n            ]\\\\n        }\\\\n    },\\\\n    \"noDataReasons\": {\\\\n        \"ERROR_INTERNAL\": 3,\\\\n        \"FILL\": 5,\\\\n        \"GAP\": 4,\\\\n        \"GOOD\": 0,\\\\n        \"INVALID_HIGH\": 2,\\\\n        \"INVALID_LOW\": 1\\\\n    },\\\\n    \"variables\": {\\\\n        \"air.temperature.at-2m\": {\\\\n            \"standardName\": \"air_temperature_at_2m_above_ground_level\",\\\\n            \"units\": \"degreeK\",\\\\n            \"siUnits\": \"K\",\\\\n            \"dimensions\": [\\\\n                \"time\",\\\\n                \"point\"\\\\n            ],\\\\n            \"data\": [\\\\n                295.05762,\\\\n                294.9482,\\\\n                294.8388,\\\\n                294.72937,\\\\n                294.51956,\\\\n                294.30975,\\\\n                294.09995,\\\\n                293.21942,\\\\n                292.3389,\\\\n                291.45837,\\\\n                290.81146,\\\\n                290.16455,\\\\n                289.5176,\\\\n                289.18933,\\\\n                288.86102,\\\\n                288.5327,\\\\n                288.28378,\\\\n                288.03485,\\\\n                287.7859,\\\\n                289.50693,\\\\n                291.22794,\\\\n                292.94894,\\\\n                293.95355,\\\\n                294.95816,\\\\n                295.96277\\\\n            ],\\\\n            \"noData\": [\\\\n                0,\\\\n                0,\\\\n                0,\\\\n                0,\\\\n                0,\\\\n                0,\\\\n                0,\\\\n                0,\\\\n                0,\\\\n                0,\\\\n                0,\\\\n                0,\\\\n                0,\\\\n                0,\\\\n                0,\\\\n                0,\\\\n                0,\\\\n                0,\\\\n                0,\\\\n                0,\\\\n                0,\\\\n                0,\\\\n                0,\\\\n                0,\\\\n                0\\\\n            ]\\\\n        },\\\\n        \"cloud.cover\": {\\\\n            \"standardName\": \"cloud_area_fraction\",\\\\n            \"units\": \"percent\",\\\\n            \"dimensions\": [\\\\n                \"time\",\\\\n                \"point\"\\\\n            ],\\\\n            \"data\": [\\\\n                48.28093,\\\\n                55.34045,\\\\n                62.39997,\\\\n                69.45949,\\\\n                66.40419,\\\\n                63.34888,\\\\n                60.293575,\\\\n                51.328896,\\\\n                42.364216,\\\\n                33.399536,\\\\n                25.036171,\\\\n                16.672808,\\\\n                8.309443,\\\\n                15.670826,\\\\n                23.032207,\\\\n                30.393589,\\\\n                23.116856,\\\\n                15.84012,\\\\n                8.563384,\\\\n                10.014595,\\\\n                11.465805,\\\\n                12.917014,\\\\n                39.374672,\\\\n                65.83232,\\\\n                92.28998\\\\n            ],\\\\n            \"noData\": [\\\\n                0,\\\\n                0,\\\\n                0,\\\\n                0,\\\\n                0,\\\\n                0,\\\\n                0,\\\\n                0,\\\\n                0,\\\\n                0,\\\\n                0,\\\\n                0,\\\\n                0,\\\\n                0,\\\\n                0,\\\\n                0,\\\\n                0,\\\\n                0,\\\\n                0,\\\\n                0,\\\\n                0,\\\\n                0,\\\\n                0,\\\\n                0,\\\\n                0\\\\n            ]\\\\n        },\\\\n        \"precipitation.rate\": {\\\\n            \"standardName\": \"lwe_precipitation_rate\",\\\\n            \"units\": \"millimeterPerHour\",\\\\n            \"siUnits\": \"mm.hr^{-1}\",\\\\n            \"dimensions\": [\\\\n                \"time\",\\\\n                \"point\"\\\\n            ],\\\\n            \"data\": [\\\\n                0.0074540875,\\\\n                0.041449066,\\\\n                0.07544404,\\\\n                0.109439015,\\\\n                0.10931945,\\\\n                0.10919988,\\\\n                0.10908031,\\\\n                0.07286644,\\\\n                0.036652565,\\\\n                0.00043869021,\\\\n                0.00043869021,\\\\n                0.00043869021,\\\\n                0.00043869021,\\\\n                0.00043869021,\\\\n                0.00043869021,\\\\n                0.00043869021,\\\\n                0.00043869021,\\\\n                0.00043869021,\\\\n                0.00043869021,\\\\n                0.00043869021,\\\\n                0.00043869021,\\\\n                0.00043869021,\\\\n                0.00043869021,\\\\n                0.00043869021,\\\\n                0.00043869021\\\\n            ],\\\\n            \"noData\": [\\\\n                0,\\\\n                0,\\\\n                0,\\\\n                0,\\\\n                0,\\\\n                0,\\\\n                0,\\\\n                0,\\\\n                0,\\\\n                0,\\\\n                0,\\\\n                0,\\\\n                0,\\\\n                0,\\\\n                0,\\\\n                0,\\\\n                0,\\\\n                0,\\\\n                0,\\\\n                0,\\\\n                0,\\\\n                0,\\\\n                0,\\\\n                0,\\\\n                0\\\\n            ]\\\\n        },\\\\n        \"wind.speed.at-10m\": {\\\\n            \"standardName\": \"wind_speed_at_10m_above_ground_level\",\\\\n            \"units\": \"meterPerSecond\",\\\\n            \"siUnits\": \"m.s^{-1}\",\\\\n            \"dimensions\": [\\\\n                \"time\",\\\\n                \"point\"\\\\n            ],\\\\n            \"data\": [\\\\n                3.0735972,\\\\n                3.4077895,\\\\n                3.76203,\\\\n                4.131164,\\\\n                3.2936835,\\\\n                2.4737372,\\\\n                1.6969368,\\\\n                0.8377785,\\\\n                0.19984311,\\\\n                0.94540375,\\\\n                1.2221705,\\\\n                1.4998977,\\\\n                1.7781355,\\\\n                1.8792418,\\\\n                1.999215,\\\\n                2.1348763,\\\\n                2.1983697,\\\\n                2.2621524,\\\\n                2.3262002,\\\\n                2.4403002,\\\\n                2.5899978,\\\\n                2.7695262,\\\\n                2.4794488,\\\\n                2.1893754,\\\\n                1.8993078\\\\n            ],\\\\n            \"noData\": [\\\\n                0,\\\\n                0,\\\\n                0,\\\\n                0,\\\\n                0,\\\\n                0,\\\\n                0,\\\\n                0,\\\\n                0,\\\\n                0,\\\\n                0,\\\\n                0,\\\\n                0,\\\\n                0,\\\\n                0,\\\\n                0,\\\\n                0,\\\\n                0,\\\\n                0,\\\\n                0,\\\\n                0,\\\\n                0,\\\\n                0,\\\\n                0,\\\\n                0\\\\n            ]\\\\n        }\\\\n    }\\\\n}\\']\\n            ______________________________\\n            VARIABLES\\n            ______________________________\\n            [\\'air.humidity.at-2m\\', \\'air.pressure.at-sea-level\\', \\'air.temperature.at-2m\\', \\'air.visibility\\', \\'atmosphere.convective.potential.energy\\', \\'cloud.base.height\\', \\'cloud.cover\\', \\'precipitation.rate\\', \\'radiation.flux.downward.longwave\\', \\'radiation.flux.downward.shortwave\\', \\'wind.direction.at-10m\\', \\'wind.direction.at-100m\\', \\'wind.speed.at-10m\\', \\'wind.speed.at-100m\\', \\'wind.speed.eastward.at-100m\\', \\'wind.speed.eastward.at-10m\\', \\'wind.speed.gust.at-10m\\', \\'wind.speed.northward.at-100m\\', \\'wind.speed.northward.at-10m\\', \\'wave.height\\', \\'wave.height.max\\', \\'wave.direction.peak\\', \\'wave.period.peak\\', \\'wave.height.above-8s\\', \\'wave.height.below-8s\\', \\'wave.period.above-8s.peak\\', \\'wave.period.below-8s.peak\\', \\'wave.direction.above-8s.peak\\', \\'wave.direction.below-8s.peak\\', \\'wave.direction.mean\\', \\'wave.directional-spread\\', \\'wave.period.tm01.mean\\', \\'wave.period.tm02.mean\\', \\'current.speed.eastward.at-sea-surface\\', \\'current.speed.eastward.at-sea-surface-no-tide\\', \\'current.speed.eastward.barotropic\\', \\'current.speed.eastward.barotropic-no-tide\\', \\'current.speed.northward.at-sea-surface\\', \\'current.speed.northward.at-sea-surface-no-tide\\', \\'current.speed.northward.barotropic\\', \\'current.speed.northward.barotropic-no-tide\\', \\'sea.temperature.at-surface\\', \\'sea.temperature.at-surface-anomaly\\']\\n\\n            REMEMBER THE RULES:\\n            - If the query is not weather related, please answer the user query as best as you can and remind them that you are a weather bot.\\n            - You can only answer user queries based on the information you receive from a weather API.\\n            - Previous information from the weather API can be found in the provided DATA STORE.\\n            - If the data is insufficient to answer the query or empty, you can request additional data from the API by returning sufficient_data_check as False and request additional data using the other fields.\\n            - If the data is insufficient, include a holding message in the response field while we request data from the API.\\n            - Please ensure that your request will provide the right data for another language model to answer the query.\\n            - For variables, you can select from the provided list. Please only select the most relevant variables to answer the query.\\n            - Make sure you get enough data. For example, if the request is for tomorrow, get data for the whole day.\\n            - If weather_query_check and sufficient_data_check are both true, you must respond to the weather query as WeatherBot. Open your query with a succint summary of the weather and give the most important details.\\n            - If the request doesn\\'t contain a specific time, make sure that the from_datetime, interval and repeat fields would request enough data from the API for a language model to answer the query with the received data.\\n            - The from_datetime field can only be values on the hour, e.g. 2022-01-01T00:00:00Z, 2022-01-01T01:00:00Z, 2022-01-01T02:00:00Z, etc.\\n            - If the user request is for the weather now, please request the data at the previous hour mark plus one additional hour of data.\\n            - Give any temperature in degrees Celsius, any wind speed in kilometres per hour, and any time in NZDT.\\n            - Don\\'t go into too much detail, be succinct. No one likes to hear every single detail about the weather.'}]\u001b[0m\n"
     ]
    },
    {
     "name": "stdout",
     "output_type": "stream",
     "text": [
      "role='user' content=\"What's the weather like in Auckland tomorrow?\"\n",
      "role='assistant' content='I need to gather data on the weather in Auckland tomorrow before I can provide an accurate forecast. Please hold on while I request the necessary information.'\n",
      "role='user' content=\"What's the weather like in Auckland tomorrow?\"\n"
     ]
    },
    {
     "name": "stderr",
     "output_type": "stream",
     "text": [
      "\u001b[32m2024-02-11 16:52:34.082\u001b[0m | \u001b[1mINFO    \u001b[0m | \u001b[36m__main__\u001b[0m:\u001b[36mGPT_response\u001b[0m:\u001b[36m63\u001b[0m - \u001b[1mGPT response: response=\"I'm checking the weather forecast for Auckland tomorrow. Please wait a moment.\" weather_query_check=True sufficient_data_check=True data_check_rationale=None location='Auckland' variables=['air.temperature.at-2m', 'cloud.cover', 'precipitation.rate', 'wind.speed.at-10m'] from_datetime='2024-02-12T00:00:00Z' interval='1h' repeat=24\u001b[0m\n"
     ]
    }
   ],
   "source": [
    "bot_stamp = datetime.now().strftime(\"%H:%M\")\n",
    "messages.append(Message(text=response.response, name=\"Bot\", stamp=bot_stamp, avatar=\"\", sent=False))\n",
    "chat_log.append(GPTMessage(role=\"assistant\", content=response.response))\n",
    "\n",
    "if response.weather_query_check and not response.sufficient_data_check:\n",
    "    chat_log.append(GPTMessage(role=\"user\", content=user_message))\n",
    "    metservice_query = await location_to_lat_lon(response)\n",
    "    data = await metservice_api_call(metservice_query)\n",
    "    data_store.append(data)\n",
    "    reply = await GPT_response(user_message, chat_log, data_store, GPTResponseToWeatherQuery)\n",
    "    bot_stamp = datetime.now().strftime(\"%H:%M\")\n",
    "    messages.append(Message(text=reply.response, name=\"Bot\", stamp=bot_stamp, avatar=\"\", sent=False))\n",
    "    chat_log.append(GPTMessage(role=\"assistant\", content=reply.response))"
   ]
  },
  {
   "cell_type": "code",
   "execution_count": 16,
   "metadata": {},
   "outputs": [
    {
     "name": "stdout",
     "output_type": "stream",
     "text": [
      "[\"What's the weather like in Auckland tomorrow?\", Message(text='I need to gather data on the weather in Auckland tomorrow before I can provide an accurate forecast. Please hold on while I request the necessary information.', name='Bot', stamp='16:52', avatar='', sent=False), Message(text=\"I'm checking the weather forecast for Auckland tomorrow. Please wait a moment.\", name='Bot', stamp='16:52', avatar='', sent=False)]\n"
     ]
    }
   ],
   "source": [
    "print(messages)"
   ]
  },
  {
   "cell_type": "code",
   "execution_count": 17,
   "metadata": {},
   "outputs": [
    {
     "name": "stdout",
     "output_type": "stream",
     "text": [
      "[{'role': 'system', 'content': \"You are WeatherBot, a chatbot that can answer any user query about the weather.\\n\\n            You will receive a user query and must respond with the outlined JSON structure.\\n            You'll also receive historical chat logs so you have context on the conversation.\\n            The date and time right now is 2024-02-11T16:52:24.353598. This might be helpful if the user query contains a relative date or time.\\n\\n            When answering, please adhere to the following rules:\\n            - If the query is not weather related, please answer the user query as best as you can and remind them that you are a weather bot.\\n            - You can only answer user queries based on the information you receive from a weather API.\\n            - Previous information from the weather API can be found in the provided DATA STORE.\\n            - If the data is insufficient to answer the query or empty, you can request additional data from the API by returning sufficient_data_check as False and request additional data using the other fields.\\n            - If the data is insufficient, include a holding message in the response field while we request data from the API.\\n            - Please ensure that your request will provide the right data for another language model to answer the query.\\n            - For variables, you can select from the provided list. Please only select the most relevant variables to answer the query.\\n            - Make sure you get enough data. For example, if the request is for tomorrow, get data for the whole day.\\n            - If weather_query_check and sufficient_data_check are both true, you must respond to the weather query as WeatherBot. Open your query with a succint summary of the weather and give the most important details.\\n            - If the request doesn't contain a specific time, make sure that the from_datetime, interval and repeat fields would request enough data from the API for a language model to answer the query with the received data.\\n            - The from_datetime field can only be values on the hour, e.g. 2022-01-01T00:00:00Z, 2022-01-01T01:00:00Z, 2022-01-01T02:00:00Z, etc.\\n            - If the user request is for the weather now, please request the data at the previous hour mark plus one additional hour of data.\\n            - Give any temperature in degrees Celsius, any wind speed in kilometres per hour, and any time in NZDT.\\n            - Don't go into too much detail, be succinct. No one likes to hear every single detail about the weather.\\n\\n            ______________________________\\n            DATA STORE\\n            ______________________________\\n            []\\n            ______________________________\\n            VARIABLES\\n            ______________________________\\n            ['air.humidity.at-2m', 'air.pressure.at-sea-level', 'air.temperature.at-2m', 'air.visibility', 'atmosphere.convective.potential.energy', 'cloud.base.height', 'cloud.cover', 'precipitation.rate', 'radiation.flux.downward.longwave', 'radiation.flux.downward.shortwave', 'wind.direction.at-10m', 'wind.direction.at-100m', 'wind.speed.at-10m', 'wind.speed.at-100m', 'wind.speed.eastward.at-100m', 'wind.speed.eastward.at-10m', 'wind.speed.gust.at-10m', 'wind.speed.northward.at-100m', 'wind.speed.northward.at-10m', 'wave.height', 'wave.height.max', 'wave.direction.peak', 'wave.period.peak', 'wave.height.above-8s', 'wave.height.below-8s', 'wave.period.above-8s.peak', 'wave.period.below-8s.peak', 'wave.direction.above-8s.peak', 'wave.direction.below-8s.peak', 'wave.direction.mean', 'wave.directional-spread', 'wave.period.tm01.mean', 'wave.period.tm02.mean', 'current.speed.eastward.at-sea-surface', 'current.speed.eastward.at-sea-surface-no-tide', 'current.speed.eastward.barotropic', 'current.speed.eastward.barotropic-no-tide', 'current.speed.northward.at-sea-surface', 'current.speed.northward.at-sea-surface-no-tide', 'current.speed.northward.barotropic', 'current.speed.northward.barotropic-no-tide', 'sea.temperature.at-surface', 'sea.temperature.at-surface-anomaly']\\n            REMEMBER THE RULES:\\n            - If the query is not weather related, please answer the user query as best as you can and remind them that you are a weather bot.\\n            - You can only answer user queries based on the information you receive from a weather API.\\n            - Previous information from the weather API can be found in the provided DATA STORE.\\n            - If the data is insufficient to answer the query or empty, you can request additional data from the API by returning sufficient_data_check as False and request additional data using the other fields.\\n            - If the data is insufficient, include a holding message in the response field while we request data from the API.\\n            - Please ensure that your request will provide the right data for another language model to answer the query.\\n            - For variables, you can select from the provided list. Please only select the most relevant variables to answer the query.\\n            - Make sure you get enough data. For example, if the request is for tomorrow, get data for the whole day.\\n            - If weather_query_check and sufficient_data_check are both true, you must respond to the weather query as WeatherBot. Open your query with a succint summary of the weather and give the most important details.\\n            - If the request doesn't contain a specific time, make sure that the from_datetime, interval and repeat fields would request enough data from the API for a language model to answer the query with the received data.\\n            - The from_datetime field can only be values on the hour, e.g. 2022-01-01T00:00:00Z, 2022-01-01T01:00:00Z, 2022-01-01T02:00:00Z, etc.\\n            - If the user request is for the weather now, please request the data at the previous hour mark plus one additional hour of data.\\n            - Give any temperature in degrees Celsius, any wind speed in kilometres per hour, and any time in NZDT.\\n            - Don't go into too much detail, be succinct. No one likes to hear every single detail about the weather.\"}, {'role': 'user', 'content': \"What's the weather like in Auckland tomorrow?\"}]\n"
     ]
    }
   ],
   "source": [
    "print(GPT_messages)"
   ]
  },
  {
   "cell_type": "code",
   "execution_count": 18,
   "metadata": {},
   "outputs": [
    {
     "name": "stdout",
     "output_type": "stream",
     "text": [
      "[GPTMessage(role='user', content=\"What's the weather like in Auckland tomorrow?\"), GPTMessage(role='assistant', content='I need to gather data on the weather in Auckland tomorrow before I can provide an accurate forecast. Please hold on while I request the necessary information.'), GPTMessage(role='user', content=\"What's the weather like in Auckland tomorrow?\"), GPTMessage(role='assistant', content=\"I'm checking the weather forecast for Auckland tomorrow. Please wait a moment.\")]\n"
     ]
    }
   ],
   "source": [
    "print(chat_log)"
   ]
  },
  {
   "cell_type": "code",
   "execution_count": 19,
   "metadata": {},
   "outputs": [
    {
     "name": "stdout",
     "output_type": "stream",
     "text": [
      "['{\\n    \"dimensions\": {\\n        \"point\": {\\n            \"type\": \"point\",\\n            \"units\": \"unknown\",\\n            \"data\": [\\n                {\\n                    \"lon\": 174.7644881,\\n                    \"lat\": -36.85088270000001\\n                }\\n            ]\\n        },\\n        \"time\": {\\n            \"type\": \"time\",\\n            \"units\": \"unknown\",\\n            \"data\": [\\n                \"2024-02-12T00:00:00Z\",\\n                \"2024-02-12T01:00:00Z\",\\n                \"2024-02-12T02:00:00Z\",\\n                \"2024-02-12T03:00:00Z\",\\n                \"2024-02-12T04:00:00Z\",\\n                \"2024-02-12T05:00:00Z\",\\n                \"2024-02-12T06:00:00Z\",\\n                \"2024-02-12T07:00:00Z\",\\n                \"2024-02-12T08:00:00Z\",\\n                \"2024-02-12T09:00:00Z\",\\n                \"2024-02-12T10:00:00Z\",\\n                \"2024-02-12T11:00:00Z\",\\n                \"2024-02-12T12:00:00Z\",\\n                \"2024-02-12T13:00:00Z\",\\n                \"2024-02-12T14:00:00Z\",\\n                \"2024-02-12T15:00:00Z\",\\n                \"2024-02-12T16:00:00Z\",\\n                \"2024-02-12T17:00:00Z\",\\n                \"2024-02-12T18:00:00Z\",\\n                \"2024-02-12T19:00:00Z\",\\n                \"2024-02-12T20:00:00Z\",\\n                \"2024-02-12T21:00:00Z\",\\n                \"2024-02-12T22:00:00Z\",\\n                \"2024-02-12T23:00:00Z\",\\n                \"2024-02-13T00:00:00Z\"\\n            ]\\n        }\\n    },\\n    \"noDataReasons\": {\\n        \"ERROR_INTERNAL\": 3,\\n        \"FILL\": 5,\\n        \"GAP\": 4,\\n        \"GOOD\": 0,\\n        \"INVALID_HIGH\": 2,\\n        \"INVALID_LOW\": 1\\n    },\\n    \"variables\": {\\n        \"air.temperature.at-2m\": {\\n            \"standardName\": \"air_temperature_at_2m_above_ground_level\",\\n            \"units\": \"degreeK\",\\n            \"siUnits\": \"K\",\\n            \"dimensions\": [\\n                \"time\",\\n                \"point\"\\n            ],\\n            \"data\": [\\n                295.05762,\\n                294.9482,\\n                294.8388,\\n                294.72937,\\n                294.51956,\\n                294.30975,\\n                294.09995,\\n                293.21942,\\n                292.3389,\\n                291.45837,\\n                290.81146,\\n                290.16455,\\n                289.5176,\\n                289.18933,\\n                288.86102,\\n                288.5327,\\n                288.28378,\\n                288.03485,\\n                287.7859,\\n                289.50693,\\n                291.22794,\\n                292.94894,\\n                293.95355,\\n                294.95816,\\n                295.96277\\n            ],\\n            \"noData\": [\\n                0,\\n                0,\\n                0,\\n                0,\\n                0,\\n                0,\\n                0,\\n                0,\\n                0,\\n                0,\\n                0,\\n                0,\\n                0,\\n                0,\\n                0,\\n                0,\\n                0,\\n                0,\\n                0,\\n                0,\\n                0,\\n                0,\\n                0,\\n                0,\\n                0\\n            ]\\n        },\\n        \"cloud.cover\": {\\n            \"standardName\": \"cloud_area_fraction\",\\n            \"units\": \"percent\",\\n            \"dimensions\": [\\n                \"time\",\\n                \"point\"\\n            ],\\n            \"data\": [\\n                48.28093,\\n                55.34045,\\n                62.39997,\\n                69.45949,\\n                66.40419,\\n                63.34888,\\n                60.293575,\\n                51.328896,\\n                42.364216,\\n                33.399536,\\n                25.036171,\\n                16.672808,\\n                8.309443,\\n                15.670826,\\n                23.032207,\\n                30.393589,\\n                23.116856,\\n                15.84012,\\n                8.563384,\\n                10.014595,\\n                11.465805,\\n                12.917014,\\n                39.374672,\\n                65.83232,\\n                92.28998\\n            ],\\n            \"noData\": [\\n                0,\\n                0,\\n                0,\\n                0,\\n                0,\\n                0,\\n                0,\\n                0,\\n                0,\\n                0,\\n                0,\\n                0,\\n                0,\\n                0,\\n                0,\\n                0,\\n                0,\\n                0,\\n                0,\\n                0,\\n                0,\\n                0,\\n                0,\\n                0,\\n                0\\n            ]\\n        },\\n        \"precipitation.rate\": {\\n            \"standardName\": \"lwe_precipitation_rate\",\\n            \"units\": \"millimeterPerHour\",\\n            \"siUnits\": \"mm.hr^{-1}\",\\n            \"dimensions\": [\\n                \"time\",\\n                \"point\"\\n            ],\\n            \"data\": [\\n                0.0074540875,\\n                0.041449066,\\n                0.07544404,\\n                0.109439015,\\n                0.10931945,\\n                0.10919988,\\n                0.10908031,\\n                0.07286644,\\n                0.036652565,\\n                0.00043869021,\\n                0.00043869021,\\n                0.00043869021,\\n                0.00043869021,\\n                0.00043869021,\\n                0.00043869021,\\n                0.00043869021,\\n                0.00043869021,\\n                0.00043869021,\\n                0.00043869021,\\n                0.00043869021,\\n                0.00043869021,\\n                0.00043869021,\\n                0.00043869021,\\n                0.00043869021,\\n                0.00043869021\\n            ],\\n            \"noData\": [\\n                0,\\n                0,\\n                0,\\n                0,\\n                0,\\n                0,\\n                0,\\n                0,\\n                0,\\n                0,\\n                0,\\n                0,\\n                0,\\n                0,\\n                0,\\n                0,\\n                0,\\n                0,\\n                0,\\n                0,\\n                0,\\n                0,\\n                0,\\n                0,\\n                0\\n            ]\\n        },\\n        \"wind.speed.at-10m\": {\\n            \"standardName\": \"wind_speed_at_10m_above_ground_level\",\\n            \"units\": \"meterPerSecond\",\\n            \"siUnits\": \"m.s^{-1}\",\\n            \"dimensions\": [\\n                \"time\",\\n                \"point\"\\n            ],\\n            \"data\": [\\n                3.0735972,\\n                3.4077895,\\n                3.76203,\\n                4.131164,\\n                3.2936835,\\n                2.4737372,\\n                1.6969368,\\n                0.8377785,\\n                0.19984311,\\n                0.94540375,\\n                1.2221705,\\n                1.4998977,\\n                1.7781355,\\n                1.8792418,\\n                1.999215,\\n                2.1348763,\\n                2.1983697,\\n                2.2621524,\\n                2.3262002,\\n                2.4403002,\\n                2.5899978,\\n                2.7695262,\\n                2.4794488,\\n                2.1893754,\\n                1.8993078\\n            ],\\n            \"noData\": [\\n                0,\\n                0,\\n                0,\\n                0,\\n                0,\\n                0,\\n                0,\\n                0,\\n                0,\\n                0,\\n                0,\\n                0,\\n                0,\\n                0,\\n                0,\\n                0,\\n                0,\\n                0,\\n                0,\\n                0,\\n                0,\\n                0,\\n                0,\\n                0,\\n                0\\n            ]\\n        }\\n    }\\n}']\n"
     ]
    }
   ],
   "source": [
    "print(data_store)"
   ]
  },
  {
   "cell_type": "code",
   "execution_count": null,
   "metadata": {},
   "outputs": [],
   "source": []
  }
 ],
 "metadata": {
  "kernelspec": {
   "display_name": ".venv",
   "language": "python",
   "name": "python3"
  },
  "language_info": {
   "codemirror_mode": {
    "name": "ipython",
    "version": 3
   },
   "file_extension": ".py",
   "mimetype": "text/x-python",
   "name": "python",
   "nbconvert_exporter": "python",
   "pygments_lexer": "ipython3",
   "version": "3.12.1"
  }
 },
 "nbformat": 4,
 "nbformat_minor": 2
}
