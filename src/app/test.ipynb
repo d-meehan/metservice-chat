{
 "cells": [
  {
   "cell_type": "code",
   "execution_count": 15,
   "metadata": {},
   "outputs": [],
   "source": [
    "import httpx\n",
    "import os"
   ]
  },
  {
   "cell_type": "code",
   "execution_count": 16,
   "metadata": {},
   "outputs": [
    {
     "name": "stdout",
     "output_type": "stream",
     "text": [
      "[{'address_components': [{'long_name': 'Auckland', 'short_name': 'Auckland', 'types': ['locality', 'political']}, {'long_name': 'Auckland', 'short_name': 'Auckland', 'types': ['administrative_area_level_1', 'political']}, {'long_name': 'New Zealand', 'short_name': 'NZ', 'types': ['country', 'political']}], 'formatted_address': 'Auckland, New Zealand', 'geometry': {'bounds': {'northeast': {'lat': -36.66060179999999, 'lng': 174.9684261}, 'southwest': {'lat': -37.0590199, 'lng': 174.443816}}, 'location': {'lat': -36.85088270000001, 'lng': 174.7644881}, 'location_type': 'APPROXIMATE', 'viewport': {'northeast': {'lat': -36.66060179999999, 'lng': 174.9684261}, 'southwest': {'lat': -37.0590199, 'lng': 174.443816}}}, 'place_id': 'ChIJ--acWvtHDW0RF5miQ2HvAAU', 'types': ['locality', 'political']}]\n"
     ]
    }
   ],
   "source": [
    "with httpx.Client() as request_client:\n",
    "    geocode_response = request_client.get(\n",
    "        \"https://maps.googleapis.com/maps/api/geocode/json\",\n",
    "        params={\n",
    "            \"address\": 'Auckland',\n",
    "            \"key\": os.environ[\"GOOGLE_MAPS_API_KEY\"]\n",
    "        }\n",
    "    )\n",
    "\n",
    "if geocode_response.status_code != 200:\n",
    "    raise ValueError(\n",
    "        f\"Request failed with status code {geocode_response.status_code}\"\n",
    "    )\n",
    "geocode_response = geocode_response.json()\n",
    "print(geocode_response['results'])"
   ]
  },
  {
   "cell_type": "code",
   "execution_count": 17,
   "metadata": {},
   "outputs": [],
   "source": [
    "latitude = geocode_response['results'][0]['geometry']['location']['lat']\n",
    "longitude = geocode_response['results'][0]['geometry']['location']['lng']"
   ]
  },
  {
   "cell_type": "code",
   "execution_count": 21,
   "metadata": {},
   "outputs": [],
   "source": [
    "with httpx.Client() as request_client:\n",
    "    tairua_geocode_response = request_client.get(\n",
    "        \"https://maps.googleapis.com/maps/api/geocode/json\",\n",
    "        params={\n",
    "            \"address\": 'Tairua',\n",
    "            \"key\": os.environ[\"GOOGLE_MAPS_API_KEY\"]\n",
    "        }\n",
    "    )\n",
    "\n",
    "if tairua_geocode_response.status_code != 200:\n",
    "    raise ValueError(\n",
    "        f\"Request failed with status code {tairua_geocode_response.status_code}\"\n",
    "    )\n",
    "tairua_geocode_response = tairua_geocode_response.json()\n"
   ]
  },
  {
   "cell_type": "code",
   "execution_count": 22,
   "metadata": {},
   "outputs": [],
   "source": [
    "tairua_latitude = tairua_geocode_response['results'][0]['geometry']['location']['lat']\n",
    "tairua_longitude = tairua_geocode_response['results'][0]['geometry']['location']['lng']"
   ]
  },
  {
   "cell_type": "code",
   "execution_count": 24,
   "metadata": {},
   "outputs": [],
   "source": [
    "my_lat = -36.8511689\n",
    "my_lon = 174.8530858"
   ]
  },
  {
   "cell_type": "code",
   "execution_count": 28,
   "metadata": {},
   "outputs": [
    {
     "name": "stdout",
     "output_type": "stream",
     "text": [
      "Auckland CBD, Auckland 1010, New Zealand\n",
      "Tairua, New Zealand\n",
      "St Heliers, Auckland, New Zealand\n"
     ]
    }
   ],
   "source": [
    "with httpx.Client() as request_client:\n",
    "    geocode_response = request_client.get(\n",
    "        \"https://maps.googleapis.com/maps/api/geocode/json\",\n",
    "        params={\n",
    "            \"latlng\": f\"{latitude},{longitude}\",\n",
    "            \"key\": os.environ[\"GOOGLE_MAPS_API_KEY\"],\n",
    "            \"result_type\": \"political\"\n",
    "        }\n",
    "    )\n",
    "\n",
    "if geocode_response.status_code != 200:\n",
    "    raise ValueError(\n",
    "        f\"Request failed with status code {geocode_response.status_code}\"\n",
    "    )\n",
    "geocode_response = geocode_response.json()\n",
    "\n",
    "print(geocode_response['results'][0]['formatted_address'])\n",
    "\n",
    "with httpx.Client() as request_client:\n",
    "    tairua_geocode_response = request_client.get(\n",
    "        \"https://maps.googleapis.com/maps/api/geocode/json\",\n",
    "        params={\n",
    "            \"latlng\": f\"{tairua_latitude},{tairua_longitude\n",
    "            }\",\n",
    "            \"key\": os.environ[\"GOOGLE_MAPS_API_KEY\"],\n",
    "            \"result_type\": \"political\"\n",
    "        }\n",
    "    )\n",
    "\n",
    "if tairua_geocode_response.status_code != 200:\n",
    "    raise ValueError(\n",
    "        f\"Request failed with status code {tairua_geocode_response.status_code}\"\n",
    "    )\n",
    "tairua_geocode_response = tairua_geocode_response.json()\n",
    "print(tairua_geocode_response['results'][0]['formatted_address'])\n",
    "\n",
    "with httpx.Client() as request_client:\n",
    "    my_geocode_response = request_client.get(\n",
    "        \"https://maps.googleapis.com/maps/api/geocode/json\",\n",
    "        params={\n",
    "            \"latlng\": f\"{my_lat},{my_lon}\",\n",
    "            \"key\": os.environ[\"GOOGLE_MAPS_API_KEY\"],\n",
    "            \"result_type\": \"political\"\n",
    "        }\n",
    "    )\n",
    "\n",
    "if my_geocode_response.status_code != 200:\n",
    "    raise ValueError(\n",
    "        f\"Request failed with status code {my_geocode_response.status_code}\"\n",
    "    )\n",
    "my_geocode_response = my_geocode_response.json()\n",
    "print(my_geocode_response['results'][0]['formatted_address'])"
   ]
  }
 ],
 "metadata": {
  "kernelspec": {
   "display_name": ".venv",
   "language": "python",
   "name": "python3"
  },
  "language_info": {
   "codemirror_mode": {
    "name": "ipython",
    "version": 3
   },
   "file_extension": ".py",
   "mimetype": "text/x-python",
   "name": "python",
   "nbconvert_exporter": "python",
   "pygments_lexer": "ipython3",
   "version": "3.12.1"
  }
 },
 "nbformat": 4,
 "nbformat_minor": 2
}
